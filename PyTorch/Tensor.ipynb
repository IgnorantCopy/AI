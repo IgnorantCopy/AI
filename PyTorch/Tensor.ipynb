{
 "cells": [
  {
   "metadata": {},
   "cell_type": "markdown",
   "source": "# Tensor(张量)",
   "id": "ae95e21435070047"
  },
  {
   "metadata": {},
   "cell_type": "markdown",
   "source": [
    "## 1.张量的创建\n",
    "### 基本概念\n",
    "* PyTorch中将数据封装成了张量\n",
    "* 张量就是元素为同一数据类型的多维矩阵"
   ],
   "id": "dfc498549416720d"
  },
  {
   "metadata": {
    "ExecuteTime": {
     "end_time": "2024-04-23T04:54:22.815326Z",
     "start_time": "2024-04-23T04:54:20.509919Z"
    }
   },
   "cell_type": "code",
   "source": [
    "import torch\n",
    "import numpy as np"
   ],
   "id": "9ee03897929398f",
   "outputs": [],
   "execution_count": 1
  },
  {
   "metadata": {},
   "cell_type": "markdown",
   "source": [
    "### 1.1 基本创建方式\n",
    "1. torch.tensor --> 根据指定数据创建张量\n",
    "2. torch.Tensor --> 根据形状创建张量\n",
    "3. torch.IntTensor/FloatTensor/DoubleTensor/... --> 创建指定类型的张量"
   ],
   "id": "f86129945a4a423c"
  },
  {
   "metadata": {
    "ExecuteTime": {
     "end_time": "2024-04-23T04:54:22.830737Z",
     "start_time": "2024-04-23T04:54:22.817591Z"
    }
   },
   "cell_type": "code",
   "source": [
    "# 1. torch.tensor\n",
    "# 1.1 创建标量\n",
    "data = torch.tensor(10)\n",
    "print(data)\n",
    "# 1.2 使用numpy数组来创建张量\n",
    "data = np.random.randn(2, 3)    # randn(*dimension): 指定array的维度\n",
    "data = torch.tensor(data)   # float64\n",
    "print(data)\n",
    "# 1.3 使用list列表来创建张量\n",
    "data = [[10., 20., 30.], [10., 20., 30.]]\n",
    "torch.tensor(data)  # float32\n",
    "print(data)"
   ],
   "id": "d3566264ad62c765",
   "outputs": [
    {
     "name": "stdout",
     "output_type": "stream",
     "text": [
      "tensor(10)\n",
      "tensor([[-0.7602, -0.8465, -0.7995],\n",
      "        [-1.0257,  0.3217, -0.7513]], dtype=torch.float64)\n",
      "[[10.0, 20.0, 30.0], [10.0, 20.0, 30.0]]\n"
     ]
    }
   ],
   "execution_count": 2
  },
  {
   "metadata": {
    "ExecuteTime": {
     "end_time": "2024-04-23T04:54:22.846202Z",
     "start_time": "2024-04-23T04:54:22.833051Z"
    }
   },
   "cell_type": "code",
   "source": [
    "# 2. torch.Tensor\n",
    "# 2.1 创建一个2x3的张量\n",
    "data = torch.Tensor(2, 3)\n",
    "print(data)\n",
    "# 2.2可以创建指定值的张量\n",
    "data = torch.Tensor([2, 3])\n",
    "print(data)"
   ],
   "id": "6895315202c04b20",
   "outputs": [
    {
     "name": "stdout",
     "output_type": "stream",
     "text": [
      "tensor([[0., 0., 0.],\n",
      "        [0., 0., 0.]])\n",
      "tensor([2., 3.])\n"
     ]
    }
   ],
   "execution_count": 3
  },
  {
   "metadata": {
    "ExecuteTime": {
     "end_time": "2024-04-23T04:54:22.862384Z",
     "start_time": "2024-04-23T04:54:22.848582Z"
    }
   },
   "cell_type": "code",
   "source": [
    "# 3. torch.IntTensor/FloatTensor/DoubleTensor\n",
    "# 3.1 创建一个int_32类型的张量\n",
    "data = torch.IntTensor(2, 3)\n",
    "print(data)\n",
    "# 3.2 创建一个float_32类型的张量\n",
    "data = torch.FloatTensor([1, 2, 3])\n",
    "print(data)\n",
    "# 3.3 创建一个double(float_64)类型的张量\n",
    "data = torch.DoubleTensor([1, 2, 3])\n",
    "print(data)"
   ],
   "id": "6e0c1f1d247f594f",
   "outputs": [
    {
     "name": "stdout",
     "output_type": "stream",
     "text": [
      "tensor([[0, 0, 0],\n",
      "        [0, 0, 0]], dtype=torch.int32)\n",
      "tensor([1., 2., 3.])\n",
      "tensor([1., 2., 3.], dtype=torch.float64)\n"
     ]
    }
   ],
   "execution_count": 4
  },
  {
   "metadata": {},
   "cell_type": "markdown",
   "source": "",
   "id": "8e9ab66fcff03978"
  },
  {
   "metadata": {},
   "cell_type": "markdown",
   "source": [
    "### 1.2 线性和随机张量\n",
    "1. 创建线性张量: torch.arange / torch.linspace\n",
    "2. 创建随机张量: torch.randn"
   ],
   "id": "2dd427257150661a"
  },
  {
   "metadata": {
    "ExecuteTime": {
     "end_time": "2024-04-23T04:54:22.878204Z",
     "start_time": "2024-04-23T04:54:22.863458Z"
    }
   },
   "cell_type": "code",
   "source": [
    "# 1. 创建线性张量\n",
    "# 1.1 创建指定步长的张量\n",
    "data = torch.arange(0, 10, 2)   # arange(start, end, step)\n",
    "print(data)\n",
    "# 1.2 在指定区间指定元素个数\n",
    "data = torch.linspace(0, 10, 100)  # linspace(start, end, num)\n",
    "print(data)"
   ],
   "id": "bf5c3a64dda96acb",
   "outputs": [
    {
     "name": "stdout",
     "output_type": "stream",
     "text": [
      "tensor([0, 2, 4, 6, 8])\n",
      "tensor([ 0.0000,  0.1010,  0.2020,  0.3030,  0.4040,  0.5051,  0.6061,  0.7071,\n",
      "         0.8081,  0.9091,  1.0101,  1.1111,  1.2121,  1.3131,  1.4141,  1.5152,\n",
      "         1.6162,  1.7172,  1.8182,  1.9192,  2.0202,  2.1212,  2.2222,  2.3232,\n",
      "         2.4242,  2.5253,  2.6263,  2.7273,  2.8283,  2.9293,  3.0303,  3.1313,\n",
      "         3.2323,  3.3333,  3.4343,  3.5354,  3.6364,  3.7374,  3.8384,  3.9394,\n",
      "         4.0404,  4.1414,  4.2424,  4.3434,  4.4444,  4.5455,  4.6465,  4.7475,\n",
      "         4.8485,  4.9495,  5.0505,  5.1515,  5.2525,  5.3535,  5.4545,  5.5556,\n",
      "         5.6566,  5.7576,  5.8586,  5.9596,  6.0606,  6.1616,  6.2626,  6.3636,\n",
      "         6.4646,  6.5657,  6.6667,  6.7677,  6.8687,  6.9697,  7.0707,  7.1717,\n",
      "         7.2727,  7.3737,  7.4747,  7.5758,  7.6768,  7.7778,  7.8788,  7.9798,\n",
      "         8.0808,  8.1818,  8.2828,  8.3838,  8.4848,  8.5859,  8.6869,  8.7879,\n",
      "         8.8889,  8.9899,  9.0909,  9.1919,  9.2929,  9.3939,  9.4949,  9.5960,\n",
      "         9.6970,  9.7980,  9.8990, 10.0000])\n"
     ]
    }
   ],
   "execution_count": 5
  },
  {
   "metadata": {
    "ExecuteTime": {
     "end_time": "2024-04-23T04:54:22.894246Z",
     "start_time": "2024-04-23T04:54:22.879207Z"
    }
   },
   "cell_type": "code",
   "source": [
    "# 2. 创建随机张量\n",
    "data = torch.randn(2, 3)\n",
    "print(data)\n",
    "# 固定随机数\n",
    "torch.random.manual_seed(123456)\n",
    "data = torch.randn(2, 3)\n",
    "print(data)"
   ],
   "id": "6c45724d4d65faf9",
   "outputs": [
    {
     "name": "stdout",
     "output_type": "stream",
     "text": [
      "tensor([[-0.6238,  0.6304,  1.5717],\n",
      "        [ 1.2786, -0.0621,  0.4617]])\n",
      "tensor([[ 1.8645,  0.4071, -1.1971],\n",
      "        [ 0.3489, -1.1437, -0.6611]])\n"
     ]
    }
   ],
   "execution_count": 6
  },
  {
   "metadata": {},
   "cell_type": "markdown",
   "source": [
    "### 1.3 创建01张量\n",
    "1. 创建全1张量: torch.ones / torch.ones_like\n",
    "2. 创建全0张量: torch.zeros / torch.zeros_like\n",
    "3. 创建全为指定值张量: torch.full / torch.full_like"
   ],
   "id": "d30dcfa81f879c7b"
  },
  {
   "metadata": {
    "ExecuteTime": {
     "end_time": "2024-04-23T04:54:22.909704Z",
     "start_time": "2024-04-23T04:54:22.895248Z"
    }
   },
   "cell_type": "code",
   "source": [
    "# 1. 创建全1张量\n",
    "data = torch.ones(2, 3)    # ones(*dimension)\n",
    "print(data)\n",
    "# 根据其他张量的形状去创建全1张量\n",
    "data = torch.ones_like(data)\n",
    "print(data)"
   ],
   "id": "758010a0ae7f8904",
   "outputs": [
    {
     "name": "stdout",
     "output_type": "stream",
     "text": [
      "tensor([[1., 1., 1.],\n",
      "        [1., 1., 1.]])\n",
      "tensor([[1., 1., 1.],\n",
      "        [1., 1., 1.]])\n"
     ]
    }
   ],
   "execution_count": 7
  },
  {
   "metadata": {
    "ExecuteTime": {
     "end_time": "2024-04-23T04:54:22.925752Z",
     "start_time": "2024-04-23T04:54:22.911776Z"
    }
   },
   "cell_type": "code",
   "source": [
    "# 2. 创建全0张量\n",
    "data = torch.zeros(2, 3)    # zeros(*dimension)\n",
    "print(data)\n",
    "# 根据其他张量的形状去创建全0张量\n",
    "data = torch.zeros_like(data)\n",
    "print(data)"
   ],
   "id": "fb43fa5088fdd4de",
   "outputs": [
    {
     "name": "stdout",
     "output_type": "stream",
     "text": [
      "tensor([[0., 0., 0.],\n",
      "        [0., 0., 0.]])\n",
      "tensor([[0., 0., 0.],\n",
      "        [0., 0., 0.]])\n"
     ]
    }
   ],
   "execution_count": 8
  },
  {
   "metadata": {
    "ExecuteTime": {
     "end_time": "2024-04-23T04:54:22.941628Z",
     "start_time": "2024-04-23T04:54:22.926867Z"
    }
   },
   "cell_type": "code",
   "source": [
    "# 3. 创建全为指定值张量\n",
    "data = torch.full([2, 3], 10)    # full([dimension], value)\n",
    "print(data)\n",
    "# 根据其他张量的形状去创建全为指定值张量\n",
    "data = torch.full_like(data, 100)\n",
    "print(data)"
   ],
   "id": "e59fb35a987c271b",
   "outputs": [
    {
     "name": "stdout",
     "output_type": "stream",
     "text": [
      "tensor([[10, 10, 10],\n",
      "        [10, 10, 10]])\n",
      "tensor([[100, 100, 100],\n",
      "        [100, 100, 100]])\n"
     ]
    }
   ],
   "execution_count": 9
  },
  {
   "metadata": {},
   "cell_type": "markdown",
   "source": [
    "### 1.4 张量元素类型转换\n",
    "1. tensor.type()\n",
    "2. torch.double() / torch.float() / torch.int() / ..."
   ],
   "id": "8d30944c0f90fdb5"
  },
  {
   "metadata": {
    "ExecuteTime": {
     "end_time": "2024-04-23T04:54:22.956887Z",
     "start_time": "2024-04-23T04:54:22.944637Z"
    }
   },
   "cell_type": "code",
   "source": [
    "# 1. tensor.type()\n",
    "data = torch.full([2, 3], 10)\n",
    "print(data.dtype)\n",
    "data = data.type(torch.DoubleTensor)\n",
    "print(data.dtype)"
   ],
   "id": "b6de20e60abf0fe5",
   "outputs": [
    {
     "name": "stdout",
     "output_type": "stream",
     "text": [
      "torch.int64\n",
      "torch.float64\n"
     ]
    }
   ],
   "execution_count": 10
  },
  {
   "metadata": {
    "ExecuteTime": {
     "end_time": "2024-04-23T04:54:22.972130Z",
     "start_time": "2024-04-23T04:54:22.958037Z"
    }
   },
   "cell_type": "code",
   "source": [
    "# 2. torch.double() / torch.float() / torch.int() / ...\n",
    "data = torch.full([2, 3], 10)\n",
    "print(data.dtype)\n",
    "data = data.double()\n",
    "print(data.dtype)"
   ],
   "id": "c948c14347e1124a",
   "outputs": [
    {
     "name": "stdout",
     "output_type": "stream",
     "text": [
      "torch.int64\n",
      "torch.float64\n"
     ]
    }
   ],
   "execution_count": 11
  },
  {
   "metadata": {},
   "cell_type": "markdown",
   "source": "## 2.张量的数值计算",
   "id": "2274396a496a42b6"
  },
  {
   "metadata": {},
   "cell_type": "markdown",
   "source": [
    "### 2.1 基本运算\n",
    "* 加法: add / add_\n",
    "* 减法: sub / sub_\n",
    "* 乘法: mul / mul_\n",
    "* 除法: div / div_\n",
    "* 取相反数: neg / neg_"
   ],
   "id": "5d80804f7cada773"
  },
  {
   "metadata": {
    "ExecuteTime": {
     "end_time": "2024-04-23T04:54:22.987798Z",
     "start_time": "2024-04-23T04:54:22.974205Z"
    }
   },
   "cell_type": "code",
   "source": [
    "# 1. 不修改原张量数据\n",
    "data = torch.randint(0, 10, [2, 3]) # randint(start, end, [dimension])\n",
    "print(data)\n",
    "data = data.add(10)\n",
    "print(data)"
   ],
   "id": "3f5f06ed80affe26",
   "outputs": [
    {
     "name": "stdout",
     "output_type": "stream",
     "text": [
      "tensor([[6, 2, 6],\n",
      "        [0, 1, 8]])\n",
      "tensor([[16, 12, 16],\n",
      "        [10, 11, 18]])\n"
     ]
    }
   ],
   "execution_count": 12
  },
  {
   "metadata": {
    "ExecuteTime": {
     "end_time": "2024-04-23T04:54:23.003086Z",
     "start_time": "2024-04-23T04:54:22.989131Z"
    }
   },
   "cell_type": "code",
   "source": [
    "# 2. 修改原张量数据\n",
    "data = torch.randint(0, 10, [2, 3])\n",
    "print(data)\n",
    "data.add_(10)\n",
    "print(data)"
   ],
   "id": "b7cdc4bf56aa87b9",
   "outputs": [
    {
     "name": "stdout",
     "output_type": "stream",
     "text": [
      "tensor([[7, 3, 4],\n",
      "        [8, 6, 9]])\n",
      "tensor([[17, 13, 14],\n",
      "        [18, 16, 19]])\n"
     ]
    }
   ],
   "execution_count": 13
  },
  {
   "metadata": {},
   "cell_type": "markdown",
   "source": [
    "### 2.2 阿达玛积\n",
    "矩阵对应位置元素相乘"
   ],
   "id": "9e65346e501ee414"
  },
  {
   "metadata": {
    "ExecuteTime": {
     "end_time": "2024-04-23T04:54:23.018529Z",
     "start_time": "2024-04-23T04:54:23.004546Z"
    }
   },
   "cell_type": "code",
   "source": [
    "# 1. 使用 mul 函数\n",
    "data1 = torch.tensor([[1, 2], [3, 4]])\n",
    "data2 = torch.tensor([[5, 6], [7, 8]])\n",
    "data = data1.mul(data2)\n",
    "print(data)"
   ],
   "id": "47b30fe507a22a81",
   "outputs": [
    {
     "name": "stdout",
     "output_type": "stream",
     "text": [
      "tensor([[ 5, 12],\n",
      "        [21, 32]])\n"
     ]
    }
   ],
   "execution_count": 14
  },
  {
   "metadata": {
    "ExecuteTime": {
     "end_time": "2024-04-23T04:54:23.034699Z",
     "start_time": "2024-04-23T04:54:23.019694Z"
    }
   },
   "cell_type": "code",
   "source": [
    "# 2. 使用 * 运算符\n",
    "data1 = torch.tensor([[1, 2], [3, 4]])\n",
    "data2 = torch.tensor([[5, 6], [7, 8]])\n",
    "data = data1 * data2\n",
    "print(data)"
   ],
   "id": "a2290ea7d028e2e6",
   "outputs": [
    {
     "name": "stdout",
     "output_type": "stream",
     "text": [
      "tensor([[ 5, 12],\n",
      "        [21, 32]])\n"
     ]
    }
   ],
   "execution_count": 15
  },
  {
   "metadata": {},
   "cell_type": "markdown",
   "source": [
    "### 2.3 矩阵乘法\n",
    "1. @ 运算符\n",
    "2. mm: 2维张量的矩阵乘法\n",
    "3. bmm: 3维张量的批次矩阵乘法\n",
    "4. matmul: 对张量形状没有限定, 如果形状不同, 用最后几个维度进行矩阵乘法"
   ],
   "id": "270a943a116101e0"
  },
  {
   "metadata": {
    "ExecuteTime": {
     "end_time": "2024-04-23T04:54:23.049981Z",
     "start_time": "2024-04-23T04:54:23.035934Z"
    }
   },
   "cell_type": "code",
   "source": [
    "# 1. 使用 @ 运算符\n",
    "data1 = torch.tensor([[1, 2], \n",
    "                      [3, 4], \n",
    "                      [5, 6]])\n",
    "data2 = torch.tensor([[5, 6], \n",
    "                      [7, 8]])\n",
    "data = data1 @ data2\n",
    "print(data)"
   ],
   "id": "8d38df2bc1e7ac7d",
   "outputs": [
    {
     "name": "stdout",
     "output_type": "stream",
     "text": [
      "tensor([[19, 22],\n",
      "        [43, 50],\n",
      "        [67, 78]])\n"
     ]
    }
   ],
   "execution_count": 16
  },
  {
   "metadata": {
    "ExecuteTime": {
     "end_time": "2024-04-23T04:54:23.065524Z",
     "start_time": "2024-04-23T04:54:23.051247Z"
    }
   },
   "cell_type": "code",
   "source": [
    "# 2. 使用 mm 函数\n",
    "data1 = torch.tensor([[1, 2], \n",
    "                      [3, 4], \n",
    "                      [5, 6]])\n",
    "data2 = torch.tensor([[5, 6], \n",
    "                      [7, 8]])\n",
    "data = torch.mm(data1, data2)\n",
    "print(data)"
   ],
   "id": "89815587f5dc0c58",
   "outputs": [
    {
     "name": "stdout",
     "output_type": "stream",
     "text": [
      "tensor([[19, 22],\n",
      "        [43, 50],\n",
      "        [67, 78]])\n"
     ]
    }
   ],
   "execution_count": 17
  },
  {
   "metadata": {
    "ExecuteTime": {
     "end_time": "2024-04-23T04:54:23.081090Z",
     "start_time": "2024-04-23T04:54:23.066936Z"
    }
   },
   "cell_type": "code",
   "source": [
    "# 3. 使用 bmm 函数\n",
    "data1 = torch.randn(3, 4, 5)    # randn(batch, row, col)\n",
    "data2 = torch.randn(3, 5, 8)\n",
    "data = torch.bmm(data1, data2)\n",
    "print(data.shape)"
   ],
   "id": "93a3857c8e28b407",
   "outputs": [
    {
     "name": "stdout",
     "output_type": "stream",
     "text": [
      "torch.Size([3, 4, 8])\n"
     ]
    }
   ],
   "execution_count": 18
  },
  {
   "metadata": {
    "ExecuteTime": {
     "end_time": "2024-04-23T04:54:23.096246Z",
     "start_time": "2024-04-23T04:54:23.083253Z"
    }
   },
   "cell_type": "code",
   "source": [
    "# 4. 使用 matmul 函数\n",
    "data1 = torch.randn(4, 5)\n",
    "data2 = torch.randn(5, 8)\n",
    "print(torch.matmul(data1, data2).shape)\n",
    "\n",
    "data1 = torch.randn(3, 4, 5)\n",
    "data2 = torch.randn(3, 5, 8)\n",
    "print(torch.matmul(data1, data2).shape)"
   ],
   "id": "3e9e202966ed357c",
   "outputs": [
    {
     "name": "stdout",
     "output_type": "stream",
     "text": [
      "torch.Size([4, 8])\n",
      "torch.Size([3, 4, 8])\n"
     ]
    }
   ],
   "execution_count": 19
  },
  {
   "metadata": {},
   "cell_type": "markdown",
   "source": [
    "### 2.4 指定运算设备\n",
    "#### 将计算移动到GPU上的方法\n",
    "* 使用cuda方法\n",
    "* 直接在GPU上创建张量\n",
    "* 使用.to()方法指定设备"
   ],
   "id": "3b96c3597935b8a0"
  },
  {
   "metadata": {
    "ExecuteTime": {
     "end_time": "2024-04-23T04:54:23.112214Z",
     "start_time": "2024-04-23T04:54:23.097349Z"
    }
   },
   "cell_type": "code",
   "source": [
    "# 1. 使用 cuda 方法\n",
    "data = torch.tensor([10, 20, 30])\n",
    "print(data.device)\n",
    "data.cuda() if torch.cuda.is_available() else data.cpu()"
   ],
   "id": "bb7f78b3a46f362c",
   "outputs": [
    {
     "name": "stdout",
     "output_type": "stream",
     "text": [
      "cpu\n"
     ]
    },
    {
     "data": {
      "text/plain": [
       "tensor([10, 20, 30])"
      ]
     },
     "execution_count": 20,
     "metadata": {},
     "output_type": "execute_result"
    }
   ],
   "execution_count": 20
  },
  {
   "metadata": {
    "ExecuteTime": {
     "end_time": "2024-04-23T04:54:23.127801Z",
     "start_time": "2024-04-23T04:54:23.113456Z"
    }
   },
   "cell_type": "code",
   "source": [
    "# 2. 直接在GPU上创建张量\n",
    "if torch.cuda.is_available():\n",
    "    data = torch.tensor([10, 20, 30], device='cuda')\n",
    "    print(data.device)"
   ],
   "id": "9712666db7b9ff8b",
   "outputs": [],
   "execution_count": 21
  },
  {
   "metadata": {
    "ExecuteTime": {
     "end_time": "2024-04-23T04:54:23.143132Z",
     "start_time": "2024-04-23T04:54:23.129117Z"
    }
   },
   "cell_type": "code",
   "source": [
    "# 3. 使用 .to() 方法指定设备\n",
    "data = torch.tensor([10, 20, 30])\n",
    "print(data.device)\n",
    "data = data.to('cuda') if torch.cuda.is_available() else data.to('cpu')\n",
    "print(data.device)"
   ],
   "id": "7b441dba391b8609",
   "outputs": [
    {
     "name": "stdout",
     "output_type": "stream",
     "text": [
      "cpu\n",
      "cpu\n"
     ]
    }
   ],
   "execution_count": 22
  },
  {
   "metadata": {},
   "cell_type": "markdown",
   "source": "## 3.张量的类型转换",
   "id": "4e277bf37f3807c5"
  },
  {
   "metadata": {},
   "cell_type": "markdown",
   "source": [
    "### 3.1 张量转换为numpy数组\n",
    "使用Tensor.numpy()方法，但是会共享内存，可以通过copy()函数规避"
   ],
   "id": "d3f8efb3dfed83c6"
  },
  {
   "metadata": {
    "ExecuteTime": {
     "end_time": "2024-04-23T04:56:28.647607Z",
     "start_time": "2024-04-23T04:56:28.629143Z"
    }
   },
   "cell_type": "code",
   "source": [
    "# 1. 张量转换为numpy数组\n",
    "data_tensor = torch.tensor([2, 3, 4])\n",
    "data_np = data_tensor.numpy()\n",
    "print(type(data_tensor))\n",
    "print(type(data_np))\n",
    "# 2. 共享内存\n",
    "data_tensor[1] = 4\n",
    "data_np[2] = 6\n",
    "print(data_tensor)\n",
    "print(data_np)"
   ],
   "id": "3c0634c56da26320",
   "outputs": [
    {
     "name": "stdout",
     "output_type": "stream",
     "text": [
      "<class 'torch.Tensor'>\n",
      "<class 'numpy.ndarray'>\n",
      "tensor([2, 4, 6])\n",
      "[2 4 6]\n"
     ]
    }
   ],
   "execution_count": 24
  },
  {
   "metadata": {
    "ExecuteTime": {
     "end_time": "2024-04-23T04:58:15.961419Z",
     "start_time": "2024-04-23T04:58:15.953399Z"
    }
   },
   "cell_type": "code",
   "source": [
    "# 3. 规避共享内存\n",
    "data_np = data_tensor.numpy().copy()\n",
    "data_tensor[0] = 20\n",
    "print(data_tensor)\n",
    "print(data_np)"
   ],
   "id": "200781ddbc847e71",
   "outputs": [
    {
     "name": "stdout",
     "output_type": "stream",
     "text": [
      "tensor([20,  4,  6])\n",
      "[2 4 6]\n"
     ]
    }
   ],
   "execution_count": 25
  },
  {
   "metadata": {},
   "cell_type": "markdown",
   "source": [
    "### 3.2 numpy数组转换为张量\n",
    "1. 使用torch.from_numpy()方法，默认共享内存，可以通过copy()函数规避\n",
    "2. 使用torch.tensor()方法，默认不共享内存"
   ],
   "id": "34b94fa55d18f5b1"
  },
  {
   "metadata": {
    "ExecuteTime": {
     "end_time": "2024-04-23T05:02:40.754744Z",
     "start_time": "2024-04-23T05:02:40.738413Z"
    }
   },
   "cell_type": "code",
   "source": [
    "# 1. from_numpy()\n",
    "data_np = np.array([2, 3, 4])\n",
    "data_tensor = torch.from_numpy(data_np)\n",
    "data_np[1] = 4\n",
    "data_tensor[2] = 6\n",
    "print(data_tensor)\n",
    "print(data_np)"
   ],
   "id": "5ac22bb94995ac14",
   "outputs": [
    {
     "name": "stdout",
     "output_type": "stream",
     "text": [
      "tensor([2, 4, 6], dtype=torch.int32)\n",
      "[2 4 6]\n"
     ]
    }
   ],
   "execution_count": 27
  },
  {
   "metadata": {
    "ExecuteTime": {
     "end_time": "2024-04-23T05:04:03.689416Z",
     "start_time": "2024-04-23T05:04:03.677768Z"
    }
   },
   "cell_type": "code",
   "source": [
    "# 2. tensor()\n",
    "data_np = np.array([2, 3, 4])\n",
    "data_tensor = torch.tensor(data_np)\n",
    "data_np[1] = 4\n",
    "data_tensor[2] = 6\n",
    "print(data_tensor)\n",
    "print(data_np)"
   ],
   "id": "4213e49f4a0736a6",
   "outputs": [
    {
     "name": "stdout",
     "output_type": "stream",
     "text": [
      "tensor([2, 3, 6], dtype=torch.int32)\n",
      "[2 4 4]\n"
     ]
    }
   ],
   "execution_count": 28
  },
  {
   "metadata": {},
   "cell_type": "markdown",
   "source": "### 3.3 标量张量和数字的转换",
   "id": "4fc971cc8b3e813c"
  },
  {
   "metadata": {
    "ExecuteTime": {
     "end_time": "2024-04-23T05:08:41.848185Z",
     "start_time": "2024-04-23T05:08:41.829310Z"
    }
   },
   "cell_type": "code",
   "source": [
    "# 提取含有单个元素的张量的值: tensor.item()\n",
    "tensor1 = torch.tensor(30)\n",
    "tensor2 = torch.tensor([30])\n",
    "tensor3 = torch.tensor([[30]])\n",
    "\n",
    "print(tensor1.item())\n",
    "print(tensor2.item())\n",
    "print(tensor3.item())"
   ],
   "id": "96e150626b9e4cba",
   "outputs": [
    {
     "name": "stdout",
     "output_type": "stream",
     "text": [
      "30\n",
      "30\n",
      "30\n"
     ]
    }
   ],
   "execution_count": 29
  },
  {
   "metadata": {},
   "cell_type": "markdown",
   "source": "## 4.张量的拼接",
   "id": "a159a8366fa1c485"
  },
  {
   "metadata": {},
   "cell_type": "markdown",
   "source": "### 4.1 torch.cat()",
   "id": "319e5048a49f9f65"
  },
  {
   "metadata": {},
   "cell_type": "code",
   "outputs": [
    {
     "name": "stdout",
     "output_type": "stream",
     "text": [
      "torch.Size([3, 4, 5])\n",
      "torch.Size([3, 4, 5])\n",
      "torch.Size([6, 4, 5])\n",
      "torch.Size([3, 8, 5])\n"
     ]
    }
   ],
   "execution_count": 30,
   "source": [
    "torch.manual_seed(0)\n",
    "data1 = torch.randint(0, 10, [3, 4, 5])\n",
    "data2 = torch.randint(0, 10, [3, 4, 5])\n",
    "print(data1.shape)\n",
    "print(data2.shape)\n",
    "# 1. 按0维度拼接\n",
    "data = torch.cat([data1, data2], dim=0) # torch.cat(tensors, dim=dimension)\n",
    "print(data.shape)\n",
    "# 2. 按1维度拼接\n",
    "data = torch.cat([data1, data2], dim=1)\n",
    "print(data.shape)"
   ],
   "id": "bb53b9e938ecc1c8"
  },
  {
   "metadata": {},
   "cell_type": "markdown",
   "source": "### 4.2 torch.stack()",
   "id": "2d9c996f5a4a4d6c"
  },
  {
   "metadata": {
    "ExecuteTime": {
     "end_time": "2024-04-23T05:25:25.110315Z",
     "start_time": "2024-04-23T05:25:25.095387Z"
    }
   },
   "cell_type": "code",
   "source": [
    "torch.manual_seed(0)\n",
    "data1 = torch.randint(0, 10, [2, 3])\n",
    "data2 = torch.randint(0, 10, [2, 3])\n",
    "print(data1)\n",
    "print(data2)\n",
    "print('-' * 30)\n",
    "# 将两个张量叠加(stack)\n",
    "# 按0维度叠加(整体叠加)\n",
    "data = torch.stack([data1, data2], dim=0)\n",
    "print(data.shape)\n",
    "print(data)\n",
    "print('-' * 30)\n",
    "# 按1维度叠加(按行叠加)\n",
    "data = torch.stack([data1, data2], dim=1)\n",
    "print(data.shape)\n",
    "print(data)\n",
    "print('-' * 30)\n",
    "# 按2维度叠加(按元素叠加)\n",
    "data = torch.stack([data1, data2], dim=2)\n",
    "print(data.shape)\n",
    "print(data)"
   ],
   "id": "1e26b1abc19b325d",
   "outputs": [
    {
     "name": "stdout",
     "output_type": "stream",
     "text": [
      "tensor([[4, 9, 3],\n",
      "        [0, 3, 9]])\n",
      "tensor([[7, 3, 7],\n",
      "        [3, 1, 6]])\n",
      "------------------------------\n",
      "torch.Size([2, 2, 3])\n",
      "tensor([[[4, 9, 3],\n",
      "         [0, 3, 9]],\n",
      "\n",
      "        [[7, 3, 7],\n",
      "         [3, 1, 6]]])\n",
      "------------------------------\n",
      "torch.Size([2, 2, 3])\n",
      "tensor([[[4, 9, 3],\n",
      "         [7, 3, 7]],\n",
      "\n",
      "        [[0, 3, 9],\n",
      "         [3, 1, 6]]])\n",
      "------------------------------\n",
      "torch.Size([2, 3, 2])\n",
      "tensor([[[4, 7],\n",
      "         [9, 3],\n",
      "         [3, 7]],\n",
      "\n",
      "        [[0, 3],\n",
      "         [3, 1],\n",
      "         [9, 6]]])\n"
     ]
    }
   ],
   "execution_count": 34
  },
  {
   "metadata": {},
   "cell_type": "markdown",
   "source": "## 5.张量索引操作",
   "id": "2c811d7d1796d3c0"
  },
  {
   "metadata": {},
   "cell_type": "markdown",
   "source": "### 5.1 简单行列索引",
   "id": "c832f10d8ee356c4"
  },
  {
   "metadata": {},
   "cell_type": "code",
   "outputs": [],
   "execution_count": null,
   "source": "",
   "id": "208ce160e509e2d6"
  },
  {
   "metadata": {},
   "cell_type": "code",
   "outputs": [],
   "execution_count": null,
   "source": "",
   "id": "dac898d167d18462"
  },
  {
   "metadata": {},
   "cell_type": "markdown",
   "source": "### 5.2 列表索引",
   "id": "a87674c2aeae57b2"
  },
  {
   "metadata": {},
   "cell_type": "code",
   "outputs": [],
   "execution_count": null,
   "source": "",
   "id": "8ce4b47d3807b880"
  },
  {
   "metadata": {},
   "cell_type": "code",
   "outputs": [],
   "execution_count": null,
   "source": "",
   "id": "4be85f2e136564d3"
  },
  {
   "metadata": {},
   "cell_type": "markdown",
   "source": "### 5.3 范围索引",
   "id": "d60043d6fd326587"
  },
  {
   "metadata": {},
   "cell_type": "code",
   "outputs": [],
   "execution_count": null,
   "source": "",
   "id": "2c327d4094706652"
  },
  {
   "metadata": {},
   "cell_type": "code",
   "outputs": [],
   "execution_count": null,
   "source": "",
   "id": "ed7f22702bb68e87"
  },
  {
   "metadata": {},
   "cell_type": "markdown",
   "source": "### 5.4 布尔索引",
   "id": "f866726f8a7a6132"
  },
  {
   "metadata": {},
   "cell_type": "code",
   "outputs": [],
   "execution_count": null,
   "source": "",
   "id": "2fb221e920129a8e"
  },
  {
   "metadata": {},
   "cell_type": "code",
   "outputs": [],
   "execution_count": null,
   "source": "",
   "id": "1457c80f38bb8923"
  },
  {
   "metadata": {},
   "cell_type": "markdown",
   "source": "### 5.5 多维索引",
   "id": "f38b2559856a3f42"
  },
  {
   "metadata": {},
   "cell_type": "code",
   "outputs": [],
   "execution_count": null,
   "source": "",
   "id": "f8a194bd5c8b88d0"
  },
  {
   "metadata": {},
   "cell_type": "code",
   "outputs": [],
   "execution_count": null,
   "source": "",
   "id": "4b69462fc14b6c4f"
  }
 ],
 "metadata": {
  "kernelspec": {
   "display_name": "Python 3",
   "language": "python",
   "name": "python3"
  },
  "language_info": {
   "codemirror_mode": {
    "name": "ipython",
    "version": 2
   },
   "file_extension": ".py",
   "mimetype": "text/x-python",
   "name": "python",
   "nbconvert_exporter": "python",
   "pygments_lexer": "ipython2",
   "version": "2.7.6"
  }
 },
 "nbformat": 4,
 "nbformat_minor": 5
}
