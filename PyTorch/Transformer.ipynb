{
 "cells": [
  {
   "metadata": {},
   "cell_type": "markdown",
   "source": "# Transformer",
   "id": "516ae502a30d6d5b"
  },
  {
   "metadata": {},
   "cell_type": "markdown",
   "source": [
    "## 1.总体架构\n",
    "作用：基于 seq2seq 的模型，将输入序列转换为输出序列，可以完成经典的 NLP 任务，如机器翻译、文本摘要、文本分类等。\n",
    "\n",
    "<img src=\"images/transformer.png\">\n",
    "\n",
    "分为四个部分：\n",
    "* 输入\n",
    "    * 源文本嵌入层和位置编码器\n",
    "    * 目标文本嵌入层和位置编码器\n",
    "* 输出\n",
    "    * 线性层\n",
    "    * softmax 层\n",
    "* 编码器\n",
    "    * 由 N 层编码器层堆叠而成\n",
    "    * 每个编码器层由两个子层连接结构组成\n",
    "    * 第一个子层连接结构包括一个多头注意力子层和规范化层以及一个残差连接\n",
    "    * 第二个子层连接结构包括一个前馈全连接子层和规范化层以及一个残差连接\n",
    "* 解码器\n",
    "    * 由 N 层解码器层堆叠而成\n",
    "    * 每个解码器层由三个子层连接结构组成\n",
    "    * 第一个子层连接结构包括一个多头自 注意力子层、规范化层以及一个残差连接\n",
    "    * 第二个子层连接结构包括一个多头注意力子层、规范化层以及一个残差连接\n",
    "    * 第三个子层连接结构包括一个前馈全连接子层、规范化层以及一个残差连接"
   ],
   "id": "b835f0cd8058905d"
  },
  {
   "metadata": {},
   "cell_type": "markdown",
   "source": "## 2.输入部分",
   "id": "22a775ec4f38a384"
  },
  {
   "metadata": {
    "ExecuteTime": {
     "end_time": "2024-07-12T01:58:59.353741Z",
     "start_time": "2024-07-12T01:58:57.167466Z"
    }
   },
   "cell_type": "code",
   "source": [
    "import torch\n",
    "import torch.nn as nn\n",
    "import math\n",
    "from torch.autograd import Variable\n",
    "\n",
    "\n",
    "class Embeddings(nn.Module):\n",
    "    def __init__(self, d_model, vocab):\n",
    "        \"\"\"\n",
    "        :param d_model: 词嵌入的维度\n",
    "        :param vocab: 词表的大小\n",
    "        \"\"\"\n",
    "        super(Embeddings, self).__init__()\n",
    "        self.lut = nn.Embedding(vocab, d_model)\n",
    "        self.d_model = d_model\n",
    "\n",
    "    def forward(self, x):\n",
    "        return self.lut(x) * math.sqrt(self.d_model)"
   ],
   "id": "1e0c9424af85a219",
   "outputs": [],
   "execution_count": 2
  },
  {
   "metadata": {
    "ExecuteTime": {
     "end_time": "2024-07-12T01:58:59.368807Z",
     "start_time": "2024-07-12T01:58:59.355771Z"
    }
   },
   "cell_type": "code",
   "source": [
    "d_model = 512\n",
    "vocab = 1000\n",
    "emb = Embeddings(d_model, vocab)\n",
    "x = Variable(torch.LongTensor([[1, 2, 4, 5], [4, 3, 2, 9]]))\n",
    "y = emb(x)\n",
    "print(y)\n",
    "print(y.shape)"
   ],
   "id": "4fccf13250550eb8",
   "outputs": [
    {
     "name": "stdout",
     "output_type": "stream",
     "text": [
      "tensor([[[ -0.6208,  -8.5809, -35.2879,  ...,  -2.0624,  20.0566,  41.4902],\n",
      "         [-22.6888, -36.5084, -23.5710,  ...,  13.1157,  -8.8151,  -5.9164],\n",
      "         [ 29.6924, -23.3729, -19.5666,  ...,   9.5588,  -7.0904,  -0.5596],\n",
      "         [-12.0384,   6.6588, -48.2716,  ...,  12.7006,   8.1441,  -8.9028]],\n",
      "\n",
      "        [[ 29.6924, -23.3729, -19.5666,  ...,   9.5588,  -7.0904,  -0.5596],\n",
      "         [ 16.9589,  -8.5977,  12.7580,  ...,  -3.8703, -15.2159, -31.5452],\n",
      "         [-22.6888, -36.5084, -23.5710,  ...,  13.1157,  -8.8151,  -5.9164],\n",
      "         [ 17.0439,  -2.6029, -44.3767,  ...,   9.3770, -34.2310,  -8.0417]]],\n",
      "       grad_fn=<MulBackward0>)\n",
      "torch.Size([2, 4, 512])\n"
     ]
    }
   ],
   "execution_count": 3
  },
  {
   "metadata": {},
   "cell_type": "markdown",
   "source": "## 3.编码器",
   "id": "c17bfac61737ac8d"
  },
  {
   "metadata": {},
   "cell_type": "markdown",
   "source": "### 3.1.位置编码器",
   "id": "9d6d6e763897b114"
  },
  {
   "metadata": {
    "ExecuteTime": {
     "end_time": "2024-07-12T01:58:59.384847Z",
     "start_time": "2024-07-12T01:58:59.370811Z"
    }
   },
   "cell_type": "code",
   "source": [
    "class PositionalEncoding(nn.Module):\n",
    "    def __init__(self, d_model, dropout, max_len=5000):\n",
    "        super(PositionalEncoding, self).__init__()\n",
    "        self.dropout = nn.Dropout(p=dropout)\n",
    "        pe = torch.zeros(max_len, d_model)   # 位置编码矩阵(max_len, d_model)\n",
    "        position = torch.arange(0, max_len).unsqueeze(1)   # 位置编码向量(max_len, 1)\n",
    "        div_term = torch.exp(torch.arange(0, d_model, 2) * -(math.log(10000.0) / d_model))   # 变换矩阵(1, d_model/2)，将自然数的绝对位置编码缩放成足够小的数字，有助于在后续梯度下降过程中更快地收敛\n",
    "        pe[:, 0::2] = torch.sin(position * div_term)   # 偶数位置编码\n",
    "        pe[:, 1::2] = torch.cos(position * div_term)   # 奇数位置编码\n",
    "        pe = pe.unsqueeze(0)   # 增加维度\n",
    "        self.register_buffer('pe', pe)   # 注册为缓冲区\n",
    "        # 对模型效果有帮助的，但不是模型结构中的超参数或者参数，不需要随着优化步骤更新的增益对象称为缓冲区。缓冲区注册之后，可以通过模型的 state_dict() 方法保存和加载，实现在模型保存后重加载时和模型结构与参数一同被加载。\n",
    "        \n",
    "    def forward(self, x):\n",
    "        x = x + Variable(self.pe[:, :x.size(1)], requires_grad=False)\n",
    "        return self.dropout(x)"
   ],
   "id": "68cd7d89b7cab300",
   "outputs": [],
   "execution_count": 4
  },
  {
   "metadata": {
    "ExecuteTime": {
     "end_time": "2024-07-12T01:58:59.400395Z",
     "start_time": "2024-07-12T01:58:59.386853Z"
    }
   },
   "cell_type": "code",
   "source": [
    "dropout = 0.1\n",
    "max_len = 60\n",
    "pe = PositionalEncoding(d_model, dropout, max_len)\n",
    "pe_result = pe(y)\n",
    "print(pe_result)\n",
    "print(pe_result.shape)"
   ],
   "id": "304c2db64a3f9335",
   "outputs": [
    {
     "name": "stdout",
     "output_type": "stream",
     "text": [
      "tensor([[[ -0.6897,  -0.0000, -39.2087,  ...,  -1.1804,  22.2851,  47.2114],\n",
      "         [-24.2748, -39.9646, -25.2768,  ...,  15.6841,  -9.7944,  -5.4626],\n",
      "         [ 34.0019,  -0.0000, -20.7003,  ...,  11.7320,  -7.8780,   0.4893],\n",
      "         [-13.2192,   6.2986, -53.3628,  ...,  15.2228,   9.0493,  -8.7809]],\n",
      "\n",
      "        [[ 32.9916, -24.8587, -21.7407,  ...,  11.7320,  -7.8782,   0.4893],\n",
      "         [ 19.7782,  -0.0000,  15.0887,  ...,  -3.1892, -16.9064, -33.9391],\n",
      "         [-24.1995, -41.0273, -25.1495,  ...,  15.6841,  -9.7943,  -5.4626],\n",
      "         [  0.0000,  -3.9921, -49.0352,  ...,  11.5300, -38.0341,  -7.8241]]],\n",
      "       grad_fn=<MulBackward0>)\n",
      "torch.Size([2, 4, 512])\n"
     ]
    }
   ],
   "execution_count": 5
  },
  {
   "metadata": {
    "ExecuteTime": {
     "end_time": "2024-07-12T01:59:00.125716Z",
     "start_time": "2024-07-12T01:58:59.402400Z"
    }
   },
   "cell_type": "code",
   "source": [
    "import matplotlib.pyplot as plt\n",
    "import numpy as np\n",
    "\n",
    "plt.figure(figsize=(15, 5))\n",
    "pe = PositionalEncoding(20, 0)\n",
    "y = pe(Variable(torch.zeros(1, 100, 20)))\n",
    "plt.plot(np.arange(100), y[0, :, 4:8].data.numpy())\n",
    "plt.legend([\"dim %d\" % p for p in [4, 5, 6, 7]])"
   ],
   "id": "e090432c4a0fde25",
   "outputs": [
    {
     "data": {
      "text/plain": [
       "<matplotlib.legend.Legend at 0x1c5a6c6fee0>"
      ]
     },
     "execution_count": 6,
     "metadata": {},
     "output_type": "execute_result"
    },
    {
     "data": {
      "text/plain": [
       "<Figure size 1500x500 with 1 Axes>"
      ],
      "image/png": "[encoded data removed]"
     },
     "metadata": {},
     "output_type": "display_data"
    }
   ],
   "execution_count": 6
  },
  {
   "metadata": {},
   "cell_type": "markdown",
   "source": [
    "## 3.2 掩码张量\n",
    "1. 什么是掩码张量\n",
    "\n",
    "    掩码张量尺寸不定，一般只含元素0和1，表示另外一个张量的对应位置的数值是否被遮掩\n",
    "\n",
    "2. 掩码张量的作用\n",
    "\n",
    "    在 transformer 中应用 attention 时，有一些生成的 attention 张量中的值计算有可能已知了未来信息而得到，因此需要对这些值进行遮掩，以免影响模型的训练。"
   ],
   "id": "f3893bead46addb7"
  },
  {
   "metadata": {
    "ExecuteTime": {
     "end_time": "2024-07-12T01:59:00.141202Z",
     "start_time": "2024-07-12T01:59:00.127047Z"
    }
   },
   "cell_type": "code",
   "source": [
    "'''\n",
    "np.triu() 函数的使用\n",
    "\n",
    "np.triu() 函数用于生成上三角矩阵，返回一个矩阵，其元素为上三角矩阵的元素，其余元素为0。\n",
    "'''\n",
    "a = np.array([[1, 2, 3], [4, 5, 6], [7, 8, 9], [10, 11, 12]])\n",
    "print(np.triu(a, k=-1))\n",
    "print(np.triu(a, k=0))\n",
    "print(np.triu(a, k=1))"
   ],
   "id": "372a59a75b2ecd42",
   "outputs": [
    {
     "name": "stdout",
     "output_type": "stream",
     "text": [
      "[[ 1  2  3]\n",
      " [ 4  5  6]\n",
      " [ 0  8  9]\n",
      " [ 0  0 12]]\n",
      "[[1 2 3]\n",
      " [0 5 6]\n",
      " [0 0 9]\n",
      " [0 0 0]]\n",
      "[[0 2 3]\n",
      " [0 0 6]\n",
      " [0 0 0]\n",
      " [0 0 0]]\n"
     ]
    }
   ],
   "execution_count": 7
  },
  {
   "metadata": {
    "ExecuteTime": {
     "end_time": "2024-07-12T01:59:00.157244Z",
     "start_time": "2024-07-12T01:59:00.143206Z"
    }
   },
   "cell_type": "code",
   "source": [
    "def subsequent_mask(size):\n",
    "    \"\"\"\n",
    "    生成向后遮掩的掩码张量，它的最后两维形成一个方阵\n",
    "    :param size: 掩码张量最后两维的尺寸\n",
    "    :return: 掩码张量\n",
    "    \"\"\"\n",
    "    attn_shape = (1, size, size)    # 掩码张量的形状\n",
    "    subsequent_mask = np.triu(np.ones(attn_shape), k=1).astype('uint8')     # 添加 1 元素，形成上三角矩阵；为了节省空间，转换为 uint8 类型\n",
    "    return torch.from_numpy(1 - subsequent_mask)     # 取反，得到下三角矩阵，并转换为张量"
   ],
   "id": "e990f52e24f5063",
   "outputs": [],
   "execution_count": 8
  },
  {
   "metadata": {
    "ExecuteTime": {
     "end_time": "2024-07-12T01:59:00.173285Z",
     "start_time": "2024-07-12T01:59:00.159249Z"
    }
   },
   "cell_type": "code",
   "source": [
    "size = 5\n",
    "mask = subsequent_mask(size)\n",
    "print(mask)"
   ],
   "id": "3f627120b06fa401",
   "outputs": [
    {
     "name": "stdout",
     "output_type": "stream",
     "text": [
      "tensor([[[1, 0, 0, 0, 0],\n",
      "         [1, 1, 0, 0, 0],\n",
      "         [1, 1, 1, 0, 0],\n",
      "         [1, 1, 1, 1, 0],\n",
      "         [1, 1, 1, 1, 1]]], dtype=torch.uint8)\n"
     ]
    }
   ],
   "execution_count": 9
  },
  {
   "metadata": {
    "ExecuteTime": {
     "end_time": "2024-07-12T01:59:00.299726Z",
     "start_time": "2024-07-12T01:59:00.175289Z"
    }
   },
   "cell_type": "code",
   "source": [
    "plt.figure(figsize=(5, 5))\n",
    "plt.imshow(subsequent_mask(20)[0])\n",
    "'''\n",
    "黄色代表被遮掩，紫色代表未被遮掩\n",
    "横坐标代表目标词汇的位置，纵坐标代表可查看的位置\n",
    "'''"
   ],
   "id": "830922a3e80a9c7e",
   "outputs": [
    {
     "data": {
      "text/plain": [
       "'\\n黄色代表被遮掩，紫色代表未被遮掩\\n横坐标代表目标词汇的位置，纵坐标代表可查看的位置\\n'"
      ]
     },
     "execution_count": 10,
     "metadata": {},
     "output_type": "execute_result"
    },
    {
     "data": {
      "text/plain": [
       "<Figure size 500x500 with 1 Axes>"
      ],
      "image/png": "[encoded data removed]"
     },
     "metadata": {},
     "output_type": "display_data"
    }
   ],
   "execution_count": 10
  },
  {
   "metadata": {},
   "cell_type": "markdown",
   "source": [
    "### 3.3 注意力机制\n",
    "计算规则：$$ Attention(Q, K, V) = softmax(\\frac{Q K^T}{\\sqrt{d_k}}) V $$\n",
    "\n",
    "它需要三个指定的输入：Q(query)、K(key)、V(value)。计算结果代表 query 在 key 和 value 作用下的表示。"
   ],
   "id": "8636869c77e2cc12"
  },
  {
   "metadata": {
    "ExecuteTime": {
     "end_time": "2024-07-12T01:59:00.315769Z",
     "start_time": "2024-07-12T01:59:00.302734Z"
    }
   },
   "cell_type": "code",
   "source": [
    "x = Variable(torch.randn(5, 5))\n",
    "print(x)\n",
    "\n",
    "mask = Variable(torch.zeros(5, 5))\n",
    "print(mask)\n",
    "\n",
    "y = x.masked_fill(mask == 0, -1e9)\n",
    "print(y)"
   ],
   "id": "9fb492856ee6f229",
   "outputs": [
    {
     "name": "stdout",
     "output_type": "stream",
     "text": [
      "tensor([[-1.1692, -1.1337,  0.3577,  1.2117, -1.7714],\n",
      "        [-1.2341,  1.4091,  0.9512, -0.9470, -0.3680],\n",
      "        [ 0.9798, -1.4729,  2.3212,  1.3203, -0.3951],\n",
      "        [ 0.6615,  2.5865, -1.2336,  1.3543,  1.0764],\n",
      "        [-0.0290, -0.4930, -0.4585, -1.0860,  0.3172]])\n",
      "tensor([[0., 0., 0., 0., 0.],\n",
      "        [0., 0., 0., 0., 0.],\n",
      "        [0., 0., 0., 0., 0.],\n",
      "        [0., 0., 0., 0., 0.],\n",
      "        [0., 0., 0., 0., 0.]])\n",
      "tensor([[-1.0000e+09, -1.0000e+09, -1.0000e+09, -1.0000e+09, -1.0000e+09],\n",
      "        [-1.0000e+09, -1.0000e+09, -1.0000e+09, -1.0000e+09, -1.0000e+09],\n",
      "        [-1.0000e+09, -1.0000e+09, -1.0000e+09, -1.0000e+09, -1.0000e+09],\n",
      "        [-1.0000e+09, -1.0000e+09, -1.0000e+09, -1.0000e+09, -1.0000e+09],\n",
      "        [-1.0000e+09, -1.0000e+09, -1.0000e+09, -1.0000e+09, -1.0000e+09]])\n"
     ]
    }
   ],
   "execution_count": 11
  },
  {
   "metadata": {
    "ExecuteTime": {
     "end_time": "2024-07-12T01:59:00.331785Z",
     "start_time": "2024-07-12T01:59:00.317775Z"
    }
   },
   "cell_type": "code",
   "source": [
    "def attention(query, key, value, mask=None, dropout=None):\n",
    "    \"\"\"\n",
    "    注意力机制的实现\n",
    "    :param query: Q\n",
    "    :param key: K\n",
    "    :param value: V\n",
    "    :param mask: 掩码张量\n",
    "    :param dropout: nn.Dropout 层\n",
    "    :return: 注意力张量\n",
    "    \"\"\"\n",
    "    d_k = query.size(-1)    # 获取词嵌入维度\n",
    "    scores = torch.matmul(query, key.transpose(-2, -1)) / math.sqrt(d_k)   # 计算注意力得分\n",
    "    if mask is not None:\n",
    "        scores = scores.masked_fill(mask == 0, -1e9)   # 掩盖未来信息\n",
    "    p_attn = nn.functional.softmax(scores, dim=-1)   # 获得最终的注意力张量\n",
    "    if dropout is not None:\n",
    "        p_attn = dropout(p_attn)\n",
    "    return torch.matmul(p_attn, value), p_attn"
   ],
   "id": "f8fa17506a0f7b62",
   "outputs": [],
   "execution_count": 12
  },
  {
   "metadata": {
    "ExecuteTime": {
     "end_time": "2024-07-12T01:59:00.348830Z",
     "start_time": "2024-07-12T01:59:00.333790Z"
    }
   },
   "cell_type": "code",
   "source": [
    "Q = K = V = pe_result\n",
    "mask = Variable(torch.zeros(2, 4, 4))\n",
    "self_attn, p_attn = attention(Q, K, V)\n",
    "print(self_attn)\n",
    "print(self_attn.shape)\n",
    "print('-' * 50)\n",
    "print(p_attn)\n",
    "print(p_attn.shape)"
   ],
   "id": "9ba47e5c51a538b3",
   "outputs": [
    {
     "name": "stdout",
     "output_type": "stream",
     "text": [
      "tensor([[[ -0.6897,   0.0000, -39.2087,  ...,  -1.1804,  22.2851,  47.2114],\n",
      "         [-24.2748, -39.9646, -25.2768,  ...,  15.6841,  -9.7944,  -5.4626],\n",
      "         [ 34.0019,   0.0000, -20.7003,  ...,  11.7320,  -7.8780,   0.4893],\n",
      "         [-13.2192,   6.2986, -53.3628,  ...,  15.2228,   9.0493,  -8.7809]],\n",
      "\n",
      "        [[ 32.9916, -24.8587, -21.7407,  ...,  11.7320,  -7.8782,   0.4893],\n",
      "         [ 19.7782,   0.0000,  15.0887,  ...,  -3.1892, -16.9064, -33.9391],\n",
      "         [-24.1995, -41.0273, -25.1495,  ...,  15.6841,  -9.7943,  -5.4626],\n",
      "         [  0.0000,  -3.9921, -49.0352,  ...,  11.5300, -38.0341,  -7.8241]]],\n",
      "       grad_fn=<UnsafeViewBackward0>)\n",
      "torch.Size([2, 4, 512])\n",
      "--------------------------------------------------\n",
      "tensor([[[1., 0., 0., 0.],\n",
      "         [0., 1., 0., 0.],\n",
      "         [0., 0., 1., 0.],\n",
      "         [0., 0., 0., 1.]],\n",
      "\n",
      "        [[1., 0., 0., 0.],\n",
      "         [0., 1., 0., 0.],\n",
      "         [0., 0., 1., 0.],\n",
      "         [0., 0., 0., 1.]]], grad_fn=<SoftmaxBackward0>)\n",
      "torch.Size([2, 4, 4])\n"
     ]
    }
   ],
   "execution_count": 13
  },
  {
   "metadata": {},
   "cell_type": "markdown",
   "source": [
    "### 3.4 多头注意力机制\n",
    "<img src=\"images/multi-head-attention.png\">\n",
    "\n",
    "所谓多头，即每个头从词义层面分割输出的张量，也就是只分割了最后一维的词的嵌入向量。将每个头的获得的输入送到注意力机制中，就形成了多头注意力机制。\n",
    "\n",
    "作用：\n",
    "    能够让每个注意力机制去优化每个词汇的不同特征部分，从而均衡同一种注意力机制可能产生的偏差，让词义拥有来自更多元的表达，从而提升模型的效果。"
   ],
   "id": "d6dff3294f9fc443"
  },
  {
   "metadata": {
    "ExecuteTime": {
     "end_time": "2024-07-12T01:59:00.379909Z",
     "start_time": "2024-07-12T01:59:00.352840Z"
    }
   },
   "cell_type": "code",
   "source": [
    "import copy\n",
    "\n",
    "\n",
    "def clone(module, N):\n",
    "    \"\"\"\n",
    "    将多个相同结构的线性层一同初始化到一个网络层列表对象中\n",
    "    :param module: 要克隆的目标网络层\n",
    "    :param N: 将 module 克隆 N 次\n",
    "    :return: 网络层列表对象\n",
    "    \"\"\"\n",
    "    return nn.ModuleList([copy.deepcopy(module) for _ in range(N)])\n",
    "\n",
    "\n",
    "class MultiHeadAttention(nn.Module):\n",
    "    def __init__(self, head_num, d_model, dropout=0.1):\n",
    "        \"\"\"\n",
    "        :param head_num: 多头注意力机制的头数\n",
    "        :param d_model: 词嵌入维度\n",
    "        :param dropout: 进行 dropout 操作的概率\n",
    "        \"\"\"\n",
    "        super(MultiHeadAttention, self).__init__()\n",
    "        assert d_model % head_num == 0\n",
    "        self.d_k = d_model // head_num   # 每个头的维度\n",
    "        self.head_num = head_num\n",
    "        self.d_model = d_model\n",
    "        self.dropout = nn.Dropout(p=dropout)\n",
    "        self.linears = clone(nn.Linear(d_model, d_model), 4)    # 获得 4 个线性层，分别是 Q、K、V、输出层\n",
    "        self.attn = None\n",
    "    \n",
    "    def forward(self, query, key, value, mask=None):\n",
    "        \"\"\"\n",
    "        :param query: Q\n",
    "        :param key: K\n",
    "        :param value: V\n",
    "        :param mask: 掩码张量\n",
    "        :return: 多头注意力结构\n",
    "        \"\"\"\n",
    "        if mask is not None:\n",
    "            mask = mask.unsqueeze(1)\n",
    "        batch_size = query.size(0)\n",
    "        query, key, value = [model(x).view(batch_size, -1, self.head_num, self.d_k).transpose(1, 2)     # 利用 view 和 transpose 进行维度和形状的转换\n",
    "                             for x, model in zip([query, key, value], self.linears)]                    # 使用 zip 将网络层和输入数据连接在一起\n",
    "        x, self.attn = attention(query, key, value, mask=mask, dropout=self.dropout)        # 将每个头的输出传入到注意力层\n",
    "        x = x.transpose(1, 2).contiguous().view(batch_size, -1, self.head_num * self.d_k)   # 维度重新转换回来\n",
    "        return self.linears[-1](x)   # 输出层"
   ],
   "id": "9ef945e4b8ea149d",
   "outputs": [],
   "execution_count": 14
  },
  {
   "metadata": {
    "ExecuteTime": {
     "end_time": "2024-07-12T01:59:00.427539Z",
     "start_time": "2024-07-12T01:59:00.384924Z"
    }
   },
   "cell_type": "code",
   "source": [
    "head_num = 8\n",
    "d_model = 512\n",
    "dropout = 0.2\n",
    "Q = K = V = pe_result\n",
    "mask = Variable(torch.zeros(2, 4, 4))\n",
    "mha = MultiHeadAttention(head_num, d_model, dropout)\n",
    "mha_result = mha(Q, K, V, mask)\n",
    "print(mha_result)\n",
    "print(mha_result.shape)"
   ],
   "id": "f42305ffb51cecb8",
   "outputs": [
    {
     "name": "stdout",
     "output_type": "stream",
     "text": [
      "tensor([[[-4.0643,  9.2726,  0.3721,  ...,  2.4213,  3.8549, -4.0772],\n",
      "         [-3.2741,  8.6834,  3.7327,  ...,  0.8707,  1.7577,  0.1409],\n",
      "         [-2.5566,  6.8601,  3.6515,  ..., -1.4673,  3.5099, -2.6835],\n",
      "         [-1.0161,  9.1147,  2.4798,  ...,  2.3701,  5.1032,  0.7863]],\n",
      "\n",
      "        [[ 8.1191,  0.1092,  0.4604,  ...,  4.6649, -8.2115,  3.0337],\n",
      "         [ 9.2446,  3.1883, -0.5527,  ...,  2.3023, -4.7264,  3.8635],\n",
      "         [ 5.9045,  2.4910,  0.9714,  ...,  3.6959, -5.1513,  3.3123],\n",
      "         [ 7.5644,  1.5569, -0.4072,  ...,  4.5520, -7.6849,  6.3139]]],\n",
      "       grad_fn=<ViewBackward0>)\n",
      "torch.Size([2, 4, 512])\n"
     ]
    }
   ],
   "execution_count": 15
  },
  {
   "metadata": {},
   "cell_type": "markdown",
   "source": [
    "### 3.5 前馈全连接层\n",
    "1. 什么是前馈全连接层\n",
    "\n",
    "    前馈全连接层是具有两层线性层的全连接网络\n",
    "2. 前馈全连接层的作用\n",
    "    \n",
    "    考虑到注意力机制可能对复杂过程的拟合程度不够，增加两层网络来提升模型的表达能力。"
   ],
   "id": "d918b93ee1de6e22"
  },
  {
   "metadata": {
    "ExecuteTime": {
     "end_time": "2024-07-12T01:59:00.443589Z",
     "start_time": "2024-07-12T01:59:00.429544Z"
    }
   },
   "cell_type": "code",
   "source": [
    "class PositionwiseFeedForward(nn.Module):\n",
    "    def __init__(self, d_model, d_ff, dropout=0.1):\n",
    "        \"\"\"\n",
    "        :param d_model: 词嵌入维度\n",
    "        :param d_ff: 前馈网络的维度\n",
    "        :param dropout: 进行 dropout 操作的概率\n",
    "        \"\"\"\n",
    "        super(PositionwiseFeedForward, self).__init__()\n",
    "        self.w1 = nn.Linear(d_model, d_ff)    # 第一层线性层\n",
    "        self.w2 = nn.Linear(d_ff, d_model)    # 第二层线性层\n",
    "        self.dropout = nn.Dropout(dropout)\n",
    "    \n",
    "    def forward(self, x):\n",
    "        return self.w2(self.dropout(nn.functional.relu(self.w1(x))))"
   ],
   "id": "6337fc2adee32999",
   "outputs": [],
   "execution_count": 16
  },
  {
   "metadata": {
    "ExecuteTime": {
     "end_time": "2024-07-12T01:59:00.459085Z",
     "start_time": "2024-07-12T01:59:00.444634Z"
    }
   },
   "cell_type": "code",
   "source": [
    "d_model = 512\n",
    "d_ff = 128\n",
    "dropout = 0.2\n",
    "ff = PositionwiseFeedForward(d_model, d_ff, dropout)\n",
    "x = mha_result\n",
    "ff_result = ff(x)\n",
    "print(ff_result)\n",
    "print(ff_result.shape)"
   ],
   "id": "2bb709f77be157b3",
   "outputs": [
    {
     "name": "stdout",
     "output_type": "stream",
     "text": [
      "tensor([[[ 1.2088,  1.2332,  0.1380,  ...,  0.4381,  0.2826, -1.7410],\n",
      "         [ 1.7672,  0.3648,  0.8809,  ..., -0.2961,  0.0791, -0.4350],\n",
      "         [-0.6416,  0.8341,  0.8582,  ..., -0.5857, -0.6429,  0.1934],\n",
      "         [ 1.2007,  0.7959,  0.8635,  ..., -0.3711, -0.1414, -0.7055]],\n",
      "\n",
      "        [[ 0.9546,  0.8462, -0.6976,  ..., -1.0930,  0.2528, -0.4543],\n",
      "         [-0.2570,  0.1790, -0.6797,  ..., -0.0412,  0.4935,  0.5092],\n",
      "         [ 0.3217,  1.3312, -0.1841,  ..., -0.3820,  1.0700, -0.5336],\n",
      "         [-0.1945,  1.1046, -0.3881,  ..., -1.1311,  0.4010, -0.2909]]],\n",
      "       grad_fn=<ViewBackward0>)\n",
      "torch.Size([2, 4, 512])\n"
     ]
    }
   ],
   "execution_count": 17
  },
  {
   "metadata": {},
   "cell_type": "markdown",
   "source": [
    "### 3.6 规范化层\n",
    "作用：由于网络层数的增加，通过多层计算后的参数可能开始出现过大或过小的情况，可能会导致学习过程出现异常，模型收敛缓慢。因此在一定层数后连接规范化层进行数值的规范化，可以使特征数值在合理范围内"
   ],
   "id": "45cf2a623680c535"
  },
  {
   "metadata": {
    "ExecuteTime": {
     "end_time": "2024-07-12T01:59:00.475182Z",
     "start_time": "2024-07-12T01:59:00.461091Z"
    }
   },
   "cell_type": "code",
   "source": [
    "class LayerNorm(nn.Module):\n",
    "    def __init__(self, features, eps=1e-6):\n",
    "        \"\"\"\n",
    "        :param features: 词嵌入的维度\n",
    "        :param eps: 规范化公式的分母上添加的极小值\n",
    "        \"\"\"\n",
    "        super(LayerNorm, self).__init__()\n",
    "        self.eps = eps\n",
    "        self.a2 = nn.Parameter(torch.ones(features))   # 权重参数\n",
    "        self.b2 = nn.Parameter(torch.zeros(features))  # 偏置参数\n",
    "        # nn.Parameter 用于将参数注册到模型的 state_dict 中，并将其转换为可训练的张量。\n",
    "    \n",
    "    def forward(self, x):\n",
    "        mean = x.mean(-1, keepdim=True)   # 对 x 进行最后一个维度上的求均值操作，同时保持输出维度和输入维度一致\n",
    "        std = x.std(-1, keepdim=True)     # 对 x 进行最后一个维度上的求标准差的操作，同时保持输出维度和输入维度一致\n",
    "        return self.a2 * (x - mean) / (std + self.eps) + self.b2   # 进行规范化"
   ],
   "id": "ad0e22c661458b20",
   "outputs": [],
   "execution_count": 18
  },
  {
   "metadata": {
    "ExecuteTime": {
     "end_time": "2024-07-12T01:59:00.490743Z",
     "start_time": "2024-07-12T01:59:00.476197Z"
    }
   },
   "cell_type": "code",
   "source": [
    "features = d_model = 512\n",
    "norm = LayerNorm(features)\n",
    "norm_result = norm(ff_result)\n",
    "print(norm_result)\n",
    "print(norm_result.shape)"
   ],
   "id": "89a713dfb9674adf",
   "outputs": [
    {
     "name": "stdout",
     "output_type": "stream",
     "text": [
      "tensor([[[ 1.2795e+00,  1.3054e+00,  1.4278e-01,  ...,  4.6132e-01,\n",
      "           2.9624e-01, -1.8518e+00],\n",
      "         [ 1.5592e+00,  2.6254e-01,  7.3978e-01,  ..., -3.4849e-01,\n",
      "          -1.6199e-03, -4.7692e-01],\n",
      "         [-7.8088e-01,  7.7424e-01,  7.9972e-01,  ..., -7.2200e-01,\n",
      "          -7.8229e-01,  9.9090e-02],\n",
      "         [ 1.2932e+00,  8.4657e-01,  9.2110e-01,  ..., -4.4097e-01,\n",
      "          -1.8755e-01, -8.0994e-01]],\n",
      "\n",
      "        [[ 1.3449e+00,  1.1928e+00, -9.7447e-01,  ..., -1.5295e+00,\n",
      "           3.5972e-01, -6.3284e-01],\n",
      "         [-2.9972e-01,  1.8622e-01, -7.7082e-01,  ..., -5.9135e-02,\n",
      "           5.3682e-01,  5.5426e-01],\n",
      "         [ 3.0089e-01,  1.2415e+00, -1.7040e-01,  ..., -3.5486e-01,\n",
      "           9.9813e-01, -4.9612e-01],\n",
      "         [-2.2188e-01,  1.1820e+00, -4.3101e-01,  ..., -1.2340e+00,\n",
      "           4.2167e-01, -3.2601e-01]]], grad_fn=<AddBackward0>)\n",
      "torch.Size([2, 4, 512])\n"
     ]
    }
   ],
   "execution_count": 19
  },
  {
   "metadata": {},
   "cell_type": "markdown",
   "source": [
    "### 3.7 子层连接结构\n",
    "<img src=\"images/subLayer1.png\">\n",
    "<br>\n",
    "<img src=\"images/subLayer2.png\">\n",
    "\n",
    "输入到子层和规范化层的过程中，使用了残差连接（跳跃连接），因此将这一部分结构整体称为子层连接。每个编码器层中都有两个子层，这两个子层加上周围的连接结构就形成了两个子层连接结构。"
   ],
   "id": "b3c79815207928ec"
  },
  {
   "metadata": {
    "ExecuteTime": {
     "end_time": "2024-07-12T01:59:00.506782Z",
     "start_time": "2024-07-12T01:59:00.491742Z"
    }
   },
   "cell_type": "code",
   "source": [
    "class SublayerConnection(nn.Module):\n",
    "    def __init__(self, size, dropout=0.1):\n",
    "        \"\"\"\n",
    "        :param size: 词嵌入维度\n",
    "        :param dropout: 进行 dropout 操作的概率\n",
    "        \"\"\"\n",
    "        super(SublayerConnection, self).__init__()\n",
    "        self.norm = LayerNorm(size)\n",
    "        self.dropout = nn.Dropout(dropout)\n",
    "    \n",
    "    def forward(self, x, sublayer):\n",
    "        \"\"\"\n",
    "        :param x: 输入数据\n",
    "        :param sublayer: 子层函数\n",
    "        :return: 输出数据\n",
    "        \"\"\"\n",
    "        return x + self.dropout(sublayer(self.norm(x)))   # 进行残差连接"
   ],
   "id": "aa44dfb78671fee2",
   "outputs": [],
   "execution_count": 20
  },
  {
   "metadata": {
    "ExecuteTime": {
     "end_time": "2024-07-12T01:59:00.522254Z",
     "start_time": "2024-07-12T01:59:00.508219Z"
    }
   },
   "cell_type": "code",
   "source": [
    "size = d_model = 512\n",
    "dropout = 0.2\n",
    "head_num = 8\n",
    "x = pe_result\n",
    "mask = Variable(torch.zeros(2, 4, 4))\n",
    "self_attn = MultiHeadAttention(head_num, d_model, dropout)\n",
    "sublayer = lambda x: self_attn(x, x, x, mask=mask)\n",
    "slc = SublayerConnection(size)\n",
    "slc_result = slc(x, sublayer)\n",
    "print(slc_result)\n",
    "print(slc_result.shape)"
   ],
   "id": "102b0e5872d83665",
   "outputs": [
    {
     "name": "stdout",
     "output_type": "stream",
     "text": [
      "tensor([[[-5.9306e-01,  1.3822e-01, -3.9403e+01,  ..., -1.1804e+00,\n",
      "           2.2105e+01,  4.6918e+01],\n",
      "         [-2.4168e+01, -3.9798e+01, -2.5384e+01,  ...,  1.6006e+01,\n",
      "          -9.7944e+00, -5.6865e+00],\n",
      "         [ 3.3878e+01,  2.4269e-01, -2.0819e+01,  ...,  1.1914e+01,\n",
      "          -8.0853e+00,  2.3463e-01],\n",
      "         [-1.3325e+01,  6.4427e+00, -5.3452e+01,  ...,  1.5404e+01,\n",
      "           8.8495e+00, -9.1727e+00]],\n",
      "\n",
      "        [[ 3.3012e+01, -2.4360e+01, -2.1515e+01,  ...,  1.2077e+01,\n",
      "          -8.1947e+00,  5.5503e-01],\n",
      "         [ 1.9626e+01,  4.1059e-01,  1.5292e+01,  ..., -3.0505e+00,\n",
      "          -1.7255e+01, -3.3900e+01],\n",
      "         [-2.4169e+01, -4.0632e+01, -2.4950e+01,  ...,  1.5792e+01,\n",
      "          -9.9894e+00, -5.3380e+00],\n",
      "         [-3.8007e-02, -3.8188e+00, -4.8894e+01,  ...,  1.1633e+01,\n",
      "          -3.8176e+01, -7.6992e+00]]], grad_fn=<AddBackward0>)\n",
      "torch.Size([2, 4, 512])\n"
     ]
    }
   ],
   "execution_count": 21
  },
  {
   "metadata": {},
   "cell_type": "markdown",
   "source": [
    "### 3.8 编码器层\n",
    "<img src=\"images/encoder.png\">"
   ],
   "id": "891bd0c9928a48e6"
  },
  {
   "metadata": {
    "ExecuteTime": {
     "end_time": "2024-07-12T01:59:00.537751Z",
     "start_time": "2024-07-12T01:59:00.523716Z"
    }
   },
   "cell_type": "code",
   "source": [
    "class EncoderLayer(nn.Module):\n",
    "    def __init__(self, size, self_attn, feed_forward, dropout):\n",
    "        \"\"\"\n",
    "        :param size: 词嵌入维度\n",
    "        :param self_attn: 多头自注意力子层\n",
    "        :param feed_forward: 前馈全连接层\n",
    "        :param dropout: 进行 dropout 操作的概率\n",
    "        \"\"\"\n",
    "        super(EncoderLayer, self).__init__()\n",
    "        self.size = size\n",
    "        self.self_attn = self_attn\n",
    "        self.feed_forward = feed_forward\n",
    "        self.sublayer = clone(SublayerConnection(size, dropout), 2)   # 两个子层连接结构\n",
    "    \n",
    "    def forward(self, x, mask):\n",
    "        x = self.sublayer[0](x, lambda x: self.self_attn(x, x, x, mask=mask))   # 第一个子层连接结构\n",
    "        return self.sublayer[1](x, self.feed_forward)   # 第二个子层连接结构"
   ],
   "id": "ce9821396e81f201",
   "outputs": [],
   "execution_count": 22
  },
  {
   "metadata": {
    "ExecuteTime": {
     "end_time": "2024-07-12T01:59:00.569281Z",
     "start_time": "2024-07-12T01:59:00.539204Z"
    }
   },
   "cell_type": "code",
   "source": [
    "size = d_model = 512\n",
    "head_num = 8\n",
    "d_ff = 128\n",
    "dropout = 0.2\n",
    "x = pe_result\n",
    "self_attn = MultiHeadAttention(head_num, d_model, dropout)\n",
    "ff = PositionwiseFeedForward(d_model, d_ff, dropout)\n",
    "mask = Variable(torch.zeros(2, 4, 4))\n",
    "el = EncoderLayer(size, self_attn, ff, dropout)\n",
    "el_result = el(x, mask)\n",
    "print(el_result)\n",
    "print(el_result.shape)"
   ],
   "id": "d92007bb9aba658",
   "outputs": [
    {
     "name": "stdout",
     "output_type": "stream",
     "text": [
      "tensor([[[-1.1317e-01,  2.7362e-01, -3.9542e+01,  ..., -1.3976e+00,\n",
      "           2.2489e+01,  4.6884e+01],\n",
      "         [-2.4292e+01, -3.9390e+01, -2.5861e+01,  ...,  1.5413e+01,\n",
      "          -9.8277e+00, -5.7875e+00],\n",
      "         [ 3.3878e+01, -5.2278e-02, -2.0624e+01,  ...,  1.0774e+01,\n",
      "          -7.8829e+00,  3.3198e-01],\n",
      "         [-1.3127e+01,  6.2453e+00, -5.3291e+01,  ...,  1.4970e+01,\n",
      "           9.0493e+00, -8.8911e+00]],\n",
      "\n",
      "        [[ 3.2997e+01, -2.4688e+01, -2.1467e+01,  ...,  1.0902e+01,\n",
      "          -7.6245e+00,  2.8175e-01],\n",
      "         [ 1.9629e+01,  2.4237e-01,  1.5757e+01,  ..., -3.7227e+00,\n",
      "          -1.6430e+01, -3.4484e+01],\n",
      "         [-2.4204e+01, -4.0575e+01, -2.5072e+01,  ...,  1.5443e+01,\n",
      "          -9.6176e+00, -5.3999e+00],\n",
      "         [ 1.1076e-01, -3.5924e+00, -4.8812e+01,  ...,  1.1530e+01,\n",
      "          -3.8066e+01, -7.8265e+00]]], grad_fn=<AddBackward0>)\n",
      "torch.Size([2, 4, 512])\n"
     ]
    }
   ],
   "execution_count": 23
  },
  {
   "metadata": {},
   "cell_type": "markdown",
   "source": "### 3.9 编码器的实现",
   "id": "6ad1b98fef7c26b0"
  },
  {
   "metadata": {
    "ExecuteTime": {
     "end_time": "2024-07-12T01:59:00.584565Z",
     "start_time": "2024-07-12T01:59:00.570284Z"
    }
   },
   "cell_type": "code",
   "source": [
    "class Encoder(nn.Module):\n",
    "    def __init__(self, layer, N):\n",
    "        \"\"\"\n",
    "        :param layer: 编码器层\n",
    "        :param N: 编码器层的数量\n",
    "        \"\"\"\n",
    "        super(Encoder, self).__init__()\n",
    "        self.layers = clone(layer, N)\n",
    "        self.norm = LayerNorm(layer.size)\n",
    "    \n",
    "    def forward(self, x, mask):\n",
    "        \"\"\"\n",
    "        :param x: 输入数据\n",
    "        :param mask: 掩码张量\n",
    "        :return: 输出数据\n",
    "        \"\"\"\n",
    "        for layer in self.layers:\n",
    "            x = layer(x, mask)\n",
    "        return self.norm(x)"
   ],
   "id": "3743e9df90bdee7d",
   "outputs": [],
   "execution_count": 24
  },
  {
   "metadata": {
    "ExecuteTime": {
     "end_time": "2024-07-12T01:59:00.646370Z",
     "start_time": "2024-07-12T01:59:00.585997Z"
    }
   },
   "cell_type": "code",
   "source": [
    "size = d_model = 512\n",
    "head_num = 8\n",
    "d_ff = 128\n",
    "dropout = 0.2\n",
    "x = pe_result\n",
    "self_attn = MultiHeadAttention(head_num, d_model, dropout)\n",
    "ff = PositionwiseFeedForward(d_model, d_ff, dropout)\n",
    "mask = Variable(torch.zeros(2, 4, 4))\n",
    "c = copy.deepcopy\n",
    "layer = EncoderLayer(size, c(self_attn), c(ff), dropout)\n",
    "N = 8\n",
    "encoder = Encoder(layer, N)\n",
    "encoder_result = encoder(x, mask)\n",
    "print(encoder_result)\n",
    "print(encoder_result.shape)"
   ],
   "id": "8de2d2018432847c",
   "outputs": [
    {
     "name": "stdout",
     "output_type": "stream",
     "text": [
      "tensor([[[ 0.1118, -0.0833, -1.5793,  ..., -0.1063,  0.8935,  1.9514],\n",
      "         [-1.0022, -1.7634, -1.0895,  ...,  0.6150, -0.4006, -0.2581],\n",
      "         [ 1.5186, -0.1797, -1.0525,  ...,  0.5164, -0.3138, -0.0052],\n",
      "         [-0.3194,  0.2118, -2.2547,  ...,  0.6564,  0.4316, -0.3521]],\n",
      "\n",
      "        [[ 1.4518, -1.2516, -1.0927,  ...,  0.4658, -0.2583,  0.0978],\n",
      "         [ 0.9353,  0.0439,  0.6113,  ..., -0.0953, -0.5856, -1.3279],\n",
      "         [-1.0033, -1.7411, -1.0353,  ...,  0.5827, -0.3225, -0.2090],\n",
      "         [ 0.0840, -0.2736, -2.0817,  ...,  0.3079, -1.4709, -0.3474]]],\n",
      "       grad_fn=<AddBackward0>)\n",
      "torch.Size([2, 4, 512])\n"
     ]
    }
   ],
   "execution_count": 25
  },
  {
   "metadata": {},
   "cell_type": "markdown",
   "source": "## 4. 解码器",
   "id": "14fa111e664d5e0d"
  },
  {
   "metadata": {},
   "cell_type": "markdown",
   "source": [
    "### 4.1 解码器层\n",
    "<img src=\"images/decoder.png\">"
   ],
   "id": "c773ca8d25cdfb90"
  },
  {
   "metadata": {
    "ExecuteTime": {
     "end_time": "2024-07-12T01:59:00.661813Z",
     "start_time": "2024-07-12T01:59:00.647779Z"
    }
   },
   "cell_type": "code",
   "source": [
    "class DecoderLayer(nn.Module):\n",
    "    def __init__(self, size, self_attn, src_attn, feed_forward, dropout):\n",
    "        \"\"\"\n",
    "        :param size: 词嵌入维度\n",
    "        :param self_attn: 多头自注意力子层\n",
    "        :param src_attn: 多头注意力子层(Q != K = V)\n",
    "        :param feed_forward: 前馈全连接层\n",
    "        :param dropout: 进行 dropout 操作的概率\n",
    "        \"\"\"\n",
    "        super(DecoderLayer, self).__init__()\n",
    "        self.size = size\n",
    "        self.self_attn = self_attn\n",
    "        self.src_attn = src_attn\n",
    "        self.feed_forward = feed_forward\n",
    "        self.sublayer = clone(SublayerConnection(size, dropout), 3)   # 三个子层连接结构\n",
    "    \n",
    "    def forward(self, x, memory, src_mask, target_mask):\n",
    "        \"\"\"\n",
    "        :param x: 输入数据\n",
    "        :param memory: 编码器的语义存储变量\n",
    "        :param src_mask: 编码器的掩码张量\n",
    "        :param target_mask: 解码器的掩码张量\n",
    "        :return: 输出数据\n",
    "        \"\"\"\n",
    "        m = memory\n",
    "        x = self.sublayer[0](x, lambda x: self.self_attn(x, x, x, mask=target_mask))   # 第一个子层连接结构\n",
    "        x = self.sublayer[1](x, lambda x: self.src_attn(x, m, m, mask=src_mask))   # 第二个子层连接结构\n",
    "        return self.sublayer[2](x, self.feed_forward)   # 第三个子层连接结构"
   ],
   "id": "c3269987f2fe3756",
   "outputs": [],
   "execution_count": 26
  },
  {
   "metadata": {
    "ExecuteTime": {
     "end_time": "2024-07-12T02:02:12.251024Z",
     "start_time": "2024-07-12T02:02:12.233980Z"
    }
   },
   "cell_type": "code",
   "source": [
    "head_num = 8\n",
    "size = d_model = 512\n",
    "d_ff = 128\n",
    "dropout = 0.2\n",
    "self_attn = src_attn = MultiHeadAttention(head_num, d_model, dropout)\n",
    "ff = PositionwiseFeedForward(d_model, d_ff, dropout)\n",
    "x = pe_result\n",
    "memory = encoder_result\n",
    "mask = Variable(torch.zeros(2, 4, 4))\n",
    "src_mask = target_mask = mask\n",
    "dl = DecoderLayer(size, self_attn, src_attn, ff, dropout)\n",
    "dl_result = dl(x, memory, src_mask, target_mask)\n",
    "print(dl_result)\n",
    "print(dl_result.shape)"
   ],
   "id": "223853a2910ff32",
   "outputs": [
    {
     "name": "stdout",
     "output_type": "stream",
     "text": [
      "tensor([[[ -1.1702,   0.3942, -38.7966,  ...,  -1.0059,  21.7834,  46.8454],\n",
      "         [-23.7760, -38.9992, -25.0647,  ...,  14.9769, -10.1940,  -5.6814],\n",
      "         [ 33.8833,   0.7017, -20.8356,  ...,  12.0816,  -8.3004,   0.1807],\n",
      "         [-13.3855,   6.3044, -53.3739,  ...,  15.0069,   7.9331,  -8.9402]],\n",
      "\n",
      "        [[ 32.6685, -24.4979, -21.8571,  ...,  11.2845,  -7.7926,   0.8874],\n",
      "         [ 20.0208,   0.6335,  15.0115,  ...,  -3.9046, -16.6591, -34.4058],\n",
      "         [-24.4539, -40.4801, -25.7478,  ...,  13.9346,  -9.7738,  -5.2782],\n",
      "         [  0.0000,  -3.8514, -49.5103,  ...,  11.1152, -37.9041,  -6.7724]]],\n",
      "       grad_fn=<AddBackward0>)\n",
      "torch.Size([2, 4, 512])\n"
     ]
    }
   ],
   "execution_count": 27
  },
  {
   "metadata": {},
   "cell_type": "markdown",
   "source": "### 4.2 解码器的实现",
   "id": "ae5c8a1d6c4d04bd"
  },
  {
   "metadata": {
    "ExecuteTime": {
     "end_time": "2024-07-12T02:03:06.081632Z",
     "start_time": "2024-07-12T02:03:06.064893Z"
    }
   },
   "cell_type": "code",
   "source": [
    "class Decoder(nn.Module):\n",
    "    def __init__(self, layer, N):\n",
    "        \"\"\"\n",
    "        :param layer: 解码器层\n",
    "        :param N: 解码器层的数量\n",
    "        \"\"\"\n",
    "        super(Decoder, self).__init__()\n",
    "        self.layers = clone(layer, N)\n",
    "        self.norm = LayerNorm(layer.size)\n",
    "    \n",
    "    def forward(self, x, memory, src_mask, target_mask):\n",
    "        for layer in self.layers:\n",
    "            x = layer(x, memory, src_mask, target_mask)\n",
    "        return self.norm(x)"
   ],
   "id": "eb71637822d32e2",
   "outputs": [],
   "execution_count": 28
  },
  {
   "metadata": {
    "ExecuteTime": {
     "end_time": "2024-07-12T02:05:12.623870Z",
     "start_time": "2024-07-12T02:05:12.532754Z"
    }
   },
   "cell_type": "code",
   "source": [
    "size = d_model = 512\n",
    "head_num = 8\n",
    "d_ff = 128\n",
    "dropout = 0.2\n",
    "self_attn = src_attn = MultiHeadAttention(head_num, d_model, dropout)\n",
    "ff = PositionwiseFeedForward(d_model, d_ff, dropout)\n",
    "x = pe_result\n",
    "memory = encoder_result\n",
    "mask = Variable(torch.zeros(2, 4, 4))\n",
    "src_mask = target_mask = mask\n",
    "layer = DecoderLayer(size, c(self_attn), c(src_attn), c(ff), dropout)\n",
    "N = 8\n",
    "decoder = Decoder(layer, N)\n",
    "decoder_result = decoder(x, memory, src_mask, target_mask)\n",
    "print(decoder_result)\n",
    "print(decoder_result.shape)"
   ],
   "id": "9f32eedb72b5791d",
   "outputs": [
    {
     "name": "stdout",
     "output_type": "stream",
     "text": [
      "tensor([[[-0.2097,  0.0734, -1.6370,  ..., -0.2772,  0.9232,  1.9315],\n",
      "         [-1.0297, -1.6574, -1.1198,  ...,  0.3956, -0.3668, -0.1820],\n",
      "         [ 1.2885,  0.0250, -0.7926,  ...,  0.1922, -0.4382, -0.1751],\n",
      "         [-0.5213,  0.2266, -2.1882,  ...,  0.3954,  0.3495, -0.3945]],\n",
      "\n",
      "        [[ 1.3869, -1.0312, -0.8455,  ...,  0.4594, -0.3559, -0.1418],\n",
      "         [ 0.8887,  0.1845,  0.7110,  ...,  0.0523, -0.6431, -1.4509],\n",
      "         [-0.9120, -1.5849, -1.1749,  ...,  0.6251, -0.3135, -0.2737],\n",
      "         [ 0.0217, -0.0678, -2.0428,  ...,  0.4443, -1.5702, -0.4152]]],\n",
      "       grad_fn=<AddBackward0>)\n",
      "torch.Size([2, 4, 512])\n"
     ]
    }
   ],
   "execution_count": 29
  },
  {
   "metadata": {},
   "cell_type": "markdown",
   "source": [
    "## 5.输出部分\n",
    "<img src=\"images/transformer_output.png\">\n",
    "\n",
    "* 线性层的作用：转换维度\n",
    "* softmax 层的作用：将输出的概率分布转换为概率值"
   ],
   "id": "827f0da94e644428"
  },
  {
   "metadata": {
    "ExecuteTime": {
     "end_time": "2024-07-12T02:09:57.789059Z",
     "start_time": "2024-07-12T02:09:57.778654Z"
    }
   },
   "cell_type": "code",
   "source": [
    "import torch.nn.functional as F\n",
    "\n",
    "\n",
    "class Generator(nn.Module):\n",
    "    def __init__(self, d_model, vocab_size):\n",
    "        \"\"\"\n",
    "        :param d_model: 词嵌入维度\n",
    "        :param vocab_size: 词汇表大小\n",
    "        \"\"\"\n",
    "        super(Generator, self).__init__()\n",
    "        self.proj = nn.Linear(d_model, vocab_size)\n",
    "    \n",
    "    def forward(self, x):\n",
    "        return F.log_softmax(self.proj(x), dim=-1)"
   ],
   "id": "76f36a2dc4742acd",
   "outputs": [],
   "execution_count": 30
  },
  {
   "metadata": {
    "ExecuteTime": {
     "end_time": "2024-07-12T02:11:03.308004Z",
     "start_time": "2024-07-12T02:11:03.286973Z"
    }
   },
   "cell_type": "code",
   "source": [
    "d_model = 512\n",
    "vocab_size = 1000\n",
    "generator = Generator(d_model, vocab_size)\n",
    "x = decoder_result\n",
    "output = generator(x)\n",
    "print(output)\n",
    "print(output.shape)"
   ],
   "id": "46c7c858a1515b51",
   "outputs": [
    {
     "name": "stdout",
     "output_type": "stream",
     "text": [
      "tensor([[[-6.8639, -7.6947, -7.3791,  ..., -6.9736, -7.2633, -6.6993],\n",
      "         [-7.6929, -7.8023, -7.2760,  ..., -8.0304, -7.5927, -7.5996],\n",
      "         [-7.0825, -7.0828, -6.2750,  ..., -7.3796, -6.4972, -6.6149],\n",
      "         [-7.2636, -7.2150, -6.8405,  ..., -6.8845, -6.0645, -8.0201]],\n",
      "\n",
      "        [[-6.6980, -7.1293, -6.1708,  ..., -7.3360, -6.4333, -6.8496],\n",
      "         [-7.5527, -6.6044, -7.1022,  ..., -6.9781, -7.3132, -6.8742],\n",
      "         [-7.9385, -7.6115, -7.0067,  ..., -8.6383, -7.8844, -7.7334],\n",
      "         [-7.4878, -7.1445, -7.6197,  ..., -7.7820, -6.9919, -7.2133]]],\n",
      "       grad_fn=<LogSoftmaxBackward0>)\n",
      "torch.Size([2, 4, 1000])\n"
     ]
    }
   ],
   "execution_count": 31
  },
  {
   "metadata": {},
   "cell_type": "markdown",
   "source": "## 6.完整的模型",
   "id": "366616e3edb56bac"
  },
  {
   "metadata": {
    "ExecuteTime": {
     "end_time": "2024-07-12T02:27:47.954095Z",
     "start_time": "2024-07-12T02:27:47.947975Z"
    }
   },
   "cell_type": "code",
   "source": [
    "class EncoderDecoder(nn.Module):\n",
    "    def __init__(self, encoder, decoder, src_embed, target_embed, generator):\n",
    "        super(EncoderDecoder, self).__init__()\n",
    "        self.encoder = encoder\n",
    "        self.decoder = decoder\n",
    "        self.src_embed = src_embed\n",
    "        self.target_embed = target_embed\n",
    "        self.generator = generator\n",
    "    \n",
    "    def forward(self, src, target, src_mask, target_mask):\n",
    "        return self.decode(self.encode(src, src_mask), src_mask, target, target_mask)\n",
    "    \n",
    "    def encode(self, src, src_mask):\n",
    "        return self.encoder(self.src_embed(src), src_mask)\n",
    "    \n",
    "    def decode(self, memory, src_mask, target, target_mask):\n",
    "        return self.decoder(self.target_embed(target), memory, src_mask, target_mask)"
   ],
   "id": "c166cd2a78a58b64",
   "outputs": [],
   "execution_count": 32
  },
  {
   "metadata": {
    "ExecuteTime": {
     "end_time": "2024-10-27T02:06:42.249294Z",
     "start_time": "2024-10-27T02:06:41.411576Z"
    }
   },
   "cell_type": "code",
   "source": [
    "d_model = 512\n",
    "vocab_size = 1000\n",
    "src_embed = nn.Embedding(vocab_size, d_model)\n",
    "target_embed = nn.Embedding(vocab_size, d_model)\n",
    "src = target = Variable(torch.LongTensor([[100, 2, 421, 508], [491, 998, 1, 221]]))\n",
    "src_mask = target_mask = Variable(torch.ones(2, 4, 4))\n",
    "ed = EncoderDecoder(encoder, decoder, src_embed, target_embed, generator)\n",
    "ed_result = ed(src, target, src_mask, target_mask)\n",
    "print(ed_result)\n",
    "print(ed_result.shape)"
   ],
   "id": "ec5a0cfcb072e953",
   "outputs": [
    {
     "ename": "NameError",
     "evalue": "name 'nn' is not defined",
     "output_type": "error",
     "traceback": [
      "\u001B[1;31m---------------------------------------------------------------------------\u001B[0m",
      "\u001B[1;31mNameError\u001B[0m                                 Traceback (most recent call last)",
      "Cell \u001B[1;32mIn[3], line 3\u001B[0m\n\u001B[0;32m      1\u001B[0m d_model \u001B[38;5;241m=\u001B[39m \u001B[38;5;241m512\u001B[39m\n\u001B[0;32m      2\u001B[0m vocab_size \u001B[38;5;241m=\u001B[39m \u001B[38;5;241m1000\u001B[39m\n\u001B[1;32m----> 3\u001B[0m src_embed \u001B[38;5;241m=\u001B[39m \u001B[43mnn\u001B[49m\u001B[38;5;241m.\u001B[39mEmbedding(vocab_size, d_model)\n\u001B[0;32m      4\u001B[0m target_embed \u001B[38;5;241m=\u001B[39m nn\u001B[38;5;241m.\u001B[39mEmbedding(vocab_size, d_model)\n\u001B[0;32m      5\u001B[0m src \u001B[38;5;241m=\u001B[39m target \u001B[38;5;241m=\u001B[39m Variable(torch\u001B[38;5;241m.\u001B[39mLongTensor([[\u001B[38;5;241m100\u001B[39m, \u001B[38;5;241m2\u001B[39m, \u001B[38;5;241m421\u001B[39m, \u001B[38;5;241m508\u001B[39m], [\u001B[38;5;241m491\u001B[39m, \u001B[38;5;241m998\u001B[39m, \u001B[38;5;241m1\u001B[39m, \u001B[38;5;241m221\u001B[39m]]))\n",
      "\u001B[1;31mNameError\u001B[0m: name 'nn' is not defined"
     ]
    }
   ],
   "execution_count": 3
  },
  {
   "metadata": {
    "ExecuteTime": {
     "end_time": "2024-07-12T02:36:46.724631Z",
     "start_time": "2024-07-12T02:36:46.717142Z"
    }
   },
   "cell_type": "code",
   "source": [
    "def create_model(src_vocab_size, target_vocab_size, N=6, d_model=512, d_ff=2048, head_num=8, dropout=0.1):\n",
    "    c = copy.deepcopy\n",
    "    attn = MultiHeadAttention(head_num, d_model, dropout)\n",
    "    ff = PositionwiseFeedForward(d_model, d_ff, dropout)\n",
    "    position = PositionalEncoding(d_model, dropout)\n",
    "    model = EncoderDecoder(\n",
    "        Encoder(EncoderLayer(d_model, c(attn), c(ff), dropout), N),\n",
    "        Decoder(DecoderLayer(d_model, c(attn), c(attn), c(ff), dropout), N),\n",
    "        nn.Sequential(Embeddings(d_model, src_vocab_size), c(position)),\n",
    "        nn.Sequential(Embeddings(d_model, target_vocab_size), c(position)),\n",
    "        Generator(d_model, target_vocab_size)\n",
    "    )\n",
    "    # 初始化参数\n",
    "    for p in model.parameters():\n",
    "        if p.dim() > 1:\n",
    "            nn.init.xavier_uniform(p)   # 初始化成一个服从均匀分布的矩阵\n",
    "    return model"
   ],
   "id": "466e1797335693ca",
   "outputs": [],
   "execution_count": 37
  },
  {
   "metadata": {},
   "cell_type": "code",
   "outputs": [],
   "execution_count": null,
   "source": [
    "src_vocab_size = 1000\n",
    "target_vocab_size = 1000\n",
    "model = create_model(src_vocab_size, target_vocab_size)\n",
    "print(model)"
   ],
   "id": "7ba55d2057ea872f"
  }
 ],
 "metadata": {
  "kernelspec": {
   "display_name": "Python 3",
   "language": "python",
   "name": "python3"
  },
  "language_info": {
   "codemirror_mode": {
    "name": "ipython",
    "version": 2
   },
   "file_extension": ".py",
   "mimetype": "text/x-python",
   "name": "python",
   "nbconvert_exporter": "python",
   "pygments_lexer": "ipython2",
   "version": "2.7.6"
  }
 },
 "nbformat": 4,
 "nbformat_minor": 5
}
